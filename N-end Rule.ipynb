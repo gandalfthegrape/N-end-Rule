{
 "cells": [
  {
   "cell_type": "markdown",
   "metadata": {},
   "source": [
    "https://en.wikipedia.org/wiki/N-end_rule"
   ]
  },
  {
   "cell_type": "code",
   "execution_count": 59,
   "metadata": {},
   "outputs": [],
   "source": [
    "from Bio.Seq import Seq\n",
    "from Bio.Alphabet import IUPAC\n",
    "import Bio.Seq\n",
    "import numpy as np"
   ]
  },
  {
   "cell_type": "code",
   "execution_count": 154,
   "metadata": {},
   "outputs": [
    {
     "data": {
      "text/plain": [
       "0"
      ]
     },
     "execution_count": 154,
     "metadata": {},
     "output_type": "execute_result"
    }
   ],
   "source": [
    "YeastTable = dict.fromkeys(('M','G','A','S','T','V','P'), 20)\n",
    "YeastTable.update(dict.fromkeys(('I','E','Z'),0.5))\n",
    "YeastTable.update(dict.fromkeys(('Y','Q'),1/6))\n",
    "YeastTable.update(dict.fromkeys(('L','F','D','K'),1/20))\n",
    "YeastTable.update(dict.fromkeys(('R'),1/30))\n",
    "\n",
    "YeastTable_k = {}\n",
    "for key, value in YeastTable.items():\n",
    "    YeastTable_k[key] = -np.log(1/2)/value\n",
    "\n",
    "def singledecay_dt(Props, dt, *args, k_dict=YeastTable_k, **kwargs):\n",
    "    Prop_updates = {}\n",
    "    for seq, No in Props.items():\n",
    "        if len(seq) == 1:\n",
    "            continue\n",
    "        k1 = k_dict.get(seq[0],0)\n",
    "        k2 = k_dict.get(seq[-1],0)\n",
    "        dN1 = -k1*No*dt\n",
    "        Prop_updates[seq[1:]] = Prop_updates.get(seq[1:],0) - dN1\n",
    "        dN2 = -k2*No*dt\n",
    "        Prop_updates[seq[:-1]] = Prop_updates.get(seq[:-1],0) - dN2\n",
    "        Ntot = No + dN1 + dN2\n",
    "        Prop_updates[seq] = Prop_updates.get(seq,0) + dN1 + dN2\n",
    "    for seq, prop in Prop_updates.items():\n",
    "        Props[seq] = Props.get(seq,0) + prop\n",
    "    return Props\n",
    "\n",
    "def decay(seq, t, *args, dt=0.00001, org='yeast', **kwargs):\n",
    "    Props = {seq: 1}\n",
    "    steps = int(t/dt)\n",
    "    for step in range(steps):\n",
    "        Props = singledecay_dt(Props,dt)\n",
    "#     for key, val in Props.items():\n",
    "#         Props[key] = '{:0.3e}'.format(val)        \n",
    "    return Props\n",
    "\n",
    "#Note: k values assume t is in hours\n",
    "\n",
    "my_seq = Seq('ATGYPPZEG',alphabet=IUPAC.protein)\n",
    "NEndRule(my_seq)"
   ]
  },
  {
   "cell_type": "code",
   "execution_count": 156,
   "metadata": {},
   "outputs": [],
   "source": [
    "decaydict = decay('AFEQ',1)"
   ]
  },
  {
   "cell_type": "code",
   "execution_count": 164,
   "metadata": {},
   "outputs": [
    {
     "data": {
      "text/plain": [
       "<matplotlib.axes._subplots.AxesSubplot at 0x1ded6b7e940>"
      ]
     },
     "execution_count": 164,
     "metadata": {},
     "output_type": "execute_result"
    },
    {
     "data": {
      "image/png": "[encoded data removed]",
      "text/plain": [
       "<Figure size 432x288 with 1 Axes>"
      ]
     },
     "metadata": {
      "needs_background": "light"
     },
     "output_type": "display_data"
    }
   ],
   "source": [
    "import seaborn as sns\n",
    "\n",
    "x = list(decaydict.keys())\n",
    "y = list(decaydict.values())\n",
    "sns.barplot(x,y)"
   ]
  },
  {
   "cell_type": "markdown",
   "metadata": {},
   "source": [
    "There will be N(N-1) simultaneous decay reactions where N is the length of the protein.\n",
    "\n",
    "prot = ABC\n",
    "\n",
    "ln(Nt/No) = -kt\n",
    "\n",
    "t1/2 = -ln(1/2)/k\n",
    "    -> k = -ln(1/2)/t1/2\n",
    "  \n",
    "  \n",
    "ABC -> BC\n",
    "    Nt = No*e^-kt\n",
    "    NBC = 1-Nt/No\n",
    "    NBC = 1-e^-kt\n",
    "    \n",
    "   "
   ]
  }
 ],
 "metadata": {
  "kernelspec": {
   "display_name": "Python 3",
   "language": "python",
   "name": "python3"
  },
  "language_info": {
   "codemirror_mode": {
    "name": "ipython",
    "version": 3
   },
   "file_extension": ".py",
   "mimetype": "text/x-python",
   "name": "python",
   "nbconvert_exporter": "python",
   "pygments_lexer": "ipython3",
   "version": "3.7.1"
  }
 },
 "nbformat": 4,
 "nbformat_minor": 2
}
